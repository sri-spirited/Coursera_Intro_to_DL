{
 "cells": [
  {
   "cell_type": "markdown",
   "metadata": {},
   "source": [
    "## Linear models"
   ]
  },
  {
   "cell_type": "markdown",
   "metadata": {},
   "source": [
    "__1.__ Consider a vector (1, -2, 0.5). Apply a softmax transform to it and enter the first component (accurate to 2 decimal places).\n",
    "\n",
    "__Ans.__ 0.60"
   ]
  },
  {
   "cell_type": "code",
   "execution_count": 40,
   "metadata": {},
   "outputs": [],
   "source": [
    "import numpy as np \n",
    "\n",
    "def softmax(arr, element_id):\n",
    "    return np.exp(arr[element_id])/np.sum([np.exp(i) for i in arr])"
   ]
  },
  {
   "cell_type": "code",
   "execution_count": 41,
   "metadata": {},
   "outputs": [
    {
     "data": {
      "text/plain": [
       "0.6037488961486257"
      ]
     },
     "execution_count": 41,
     "metadata": {},
     "output_type": "execute_result"
    }
   ],
   "source": [
    "softmax(np.array([1, -2, 0.5]), 0)"
   ]
  },
  {
   "cell_type": "markdown",
   "metadata": {},
   "source": [
    "--------------------------------------------------------------------------------\n",
    "\n",
    "__2.__ Suppose you are solving a 5-class classification problem with 10 features. How many parameters a linear model would have? Don’t forget bias terms!\n",
    "\n",
    "__Ans.__ Slopes: 10*5 = 50 \n",
    "         Biases: 5\n",
    "         Total = 55\n",
    "         \n",
    "--------------------------------------------------------------------------------"
   ]
  },
  {
   "cell_type": "markdown",
   "metadata": {},
   "source": [
    "__3.__There is an analytical solution for linear regression parameters and MSE loss, but we usually prefer gradient descent optimization over it. What are the reasons?\n",
    "\n",
    "__Ans.__ \n",
    "- Doesn't require to invert a matrix \n",
    "- Gradient descent is more scalable and can be applied for problems with high number of features\n",
    "\n",
    "\n",
    "Note: The option _Gradient descent is a method specially developed for MSE loss_ is incorrect, because it can be used for any kind of loss function. \n",
    "Also, grad desc can never give lower values than analytical solution\n",
    "\n",
    "--------------------------------------------------------------------------------"
   ]
  },
  {
   "cell_type": "markdown",
   "metadata": {},
   "source": [
    "## Overfitting and regularization"
   ]
  },
  {
   "cell_type": "markdown",
   "metadata": {},
   "source": [
    "__1.__ Select correct statements about overfitting:\n",
    "* Large model weights can indicate that model is overfitted __Yes__\n",
    "* Overfitting happens when model is too simple for the problem __No__\n",
    "* Overfitting is a situation where a model gives lower quality for new data compared to quality on a training sample __True__\n",
    "* Overfitting is a situation where a model gives comparable quality on new data and on a training sample __False__\n",
    "\n",
    "__2.__ What disadvantages do model validation on holdout sample have?\n",
    "* It requires multiple model fitting __False__\n",
    "* It can give biased quality estimates for small samples __True__\n",
    "* It is sensitive to the particular split of the sample into training and test parts __True__\n",
    "\n",
    "__3.__ Suppose you are using k-fold cross-validation to assess model quality. How many times should you train the model during this procedure?\n",
    "* 1\n",
    "* k __This__ \n",
    "* k(k-1)/2\n",
    "* k^2 \n",
    " \n",
    "\n",
    "__4.__ Select correct statements about regularization:\n",
    "* Weight penalty reduces the number of model parameters and leads to faster model training __False__\n",
    "* Reducing the training sample size makes data simpler and then leads to better quality __False__\n",
    "* Weight penalty drives model parameters closer to zero and prevents the model from being too sensitive to small changes in features __True__\n",
    "* Regularization restricts model complexity (namely the scale of the coefficients) to reduce overfitting __True__"
   ]
  }
 ],
 "metadata": {
  "kernelspec": {
   "display_name": "Python 3",
   "language": "python",
   "name": "python3"
  },
  "language_info": {
   "codemirror_mode": {
    "name": "ipython",
    "version": 3
   },
   "file_extension": ".py",
   "mimetype": "text/x-python",
   "name": "python",
   "nbconvert_exporter": "python",
   "pygments_lexer": "ipython3",
   "version": "3.7.1"
  }
 },
 "nbformat": 4,
 "nbformat_minor": 2
}
